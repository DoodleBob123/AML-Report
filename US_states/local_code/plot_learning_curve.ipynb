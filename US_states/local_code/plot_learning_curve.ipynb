{
 "cells": [
  {
   "cell_type": "code",
   "execution_count": 1,
   "metadata": {
    "collapsed": true
   },
   "outputs": [],
   "source": [
    "import numpy as np\n",
    "import matplotlib.pyplot as plt\n",
    "import itertools\n",
    "import matplotlib.ticker as ticker"
   ]
  },
  {
   "cell_type": "code",
   "execution_count": 2,
   "outputs": [
    {
     "name": "stdout",
     "output_type": "stream",
     "text": [
      "losses/losses_0-22.npy\n",
      "losses/losses_22-44.npy\n",
      "losses/losses_44-66.npy\n",
      "losses/losses_66-88.npy\n",
      "losses/losses_88-110.npy\n"
     ]
    }
   ],
   "source": [
    "filenames = [\n",
    "    \"losses/losses_0-22.npy\",\n",
    "    \"losses/losses_22-44.npy\",\n",
    "    \"losses/losses_44-66.npy\",\n",
    "    \"losses/losses_66-88.npy\",\n",
    "    \"losses/losses_88-110.npy\",\n",
    "]\n",
    "\n",
    "losses = np.asarray([])\n",
    "\n",
    "for fn in filenames:\n",
    "\n",
    "    print(fn)\n",
    "\n",
    "    loss_dict = np.load(fn, allow_pickle=True)\n",
    "    loss = np.array(list(itertools.chain(*[loss_dict[i][\"loss\"] for i in range(len(loss_dict))])))\n",
    "\n",
    "    losses = np.append(losses, loss)"
   ],
   "metadata": {
    "collapsed": false,
    "pycharm": {
     "name": "#%%\n"
    }
   }
  },
  {
   "cell_type": "code",
   "execution_count": 3,
   "outputs": [],
   "source": [
    "losses = losses[30:100000]"
   ],
   "metadata": {
    "collapsed": false,
    "pycharm": {
     "name": "#%%\n"
    }
   }
  },
  {
   "cell_type": "code",
   "execution_count": 4,
   "outputs": [
    {
     "data": {
      "text/plain": "(99970,)"
     },
     "execution_count": 4,
     "metadata": {},
     "output_type": "execute_result"
    }
   ],
   "source": [
    "losses.shape"
   ],
   "metadata": {
    "collapsed": false,
    "pycharm": {
     "name": "#%%\n"
    }
   }
  },
  {
   "cell_type": "code",
   "execution_count": 5,
   "outputs": [
    {
     "data": {
      "text/plain": "<Figure size 343.778x169.972 with 1 Axes>",
      "image/png": "[encoded data removed]"
     },
     "metadata": {
      "needs_background": "light"
     },
     "output_type": "display_data"
    }
   ],
   "source": [
    "# FuncFormatter can be used as a decorator\n",
    "@ticker.FuncFormatter\n",
    "def major_formatter(x, pos):\n",
    "    return f\"{int(x/1000)}\"\n",
    "\n",
    "with plt.style.context(\"losses/latex_document.mplstyle\"):\n",
    "\n",
    "    fig = plt.figure(figsize=(4.7747, 0.8*2.9509))\n",
    "    plt.plot(losses, color=\"black\")\n",
    "\n",
    "    plt.title(\"Training curve\")\n",
    "    plt.xlabel(\"Epoch\")\n",
    "    plt.ylabel(\"Loss\")\n",
    "\n",
    "    plt.gca().xaxis.set_major_formatter(major_formatter)\n",
    "\n",
    "    plt.grid()\n",
    "    plt.savefig(\"losses/training_curve.pdf\")"
   ],
   "metadata": {
    "collapsed": false,
    "pycharm": {
     "name": "#%%\n"
    }
   }
  },
  {
   "cell_type": "code",
   "execution_count": 6,
   "outputs": [
    {
     "data": {
      "text/plain": "<Figure size 144x144 with 1 Axes>",
      "image/png": "[encoded data removed]"
     },
     "metadata": {
      "needs_background": "light"
     },
     "output_type": "display_data"
    }
   ],
   "source": [
    "# Plot small log normal\n",
    "from scipy.stats import lognorm as lgn\n",
    "with plt.style.context(\"losses/latex_document.mplstyle\"):\n",
    "\n",
    "    fig = plt.figure(figsize=(2, 2))\n",
    "\n",
    "    x_space = np.linspace(1, 5, 100)\n",
    "    y = lgn.pdf(x_space, 0.2, np.log(8))\n",
    "\n",
    "\n",
    "    plt.plot(x_space, y)\n",
    "    plt.grid()\n",
    "    plt.show()"
   ],
   "metadata": {
    "collapsed": false,
    "pycharm": {
     "name": "#%%\n"
    }
   }
  },
  {
   "cell_type": "code",
   "execution_count": 6,
   "outputs": [],
   "source": [],
   "metadata": {
    "collapsed": false,
    "pycharm": {
     "name": "#%%\n"
    }
   }
  }
 ],
 "metadata": {
  "kernelspec": {
   "display_name": "Python 3",
   "language": "python",
   "name": "python3"
  },
  "language_info": {
   "codemirror_mode": {
    "name": "ipython",
    "version": 2
   },
   "file_extension": ".py",
   "mimetype": "text/x-python",
   "name": "python",
   "nbconvert_exporter": "python",
   "pygments_lexer": "ipython2",
   "version": "2.7.6"
  }
 },
 "nbformat": 4,
 "nbformat_minor": 0
}