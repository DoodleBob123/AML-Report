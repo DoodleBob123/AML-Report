{
 "cells": [
  {
   "cell_type": "code",
   "execution_count": 1,
   "metadata": {
    "collapsed": true
   },
   "outputs": [],
   "source": [
    "import numpy as np\n",
    "import pandas as pd"
   ]
  },
  {
   "cell_type": "code",
   "execution_count": 2,
   "outputs": [],
   "source": [
    "path = \"data/covid19-hopkins.csv\"\n",
    "df_read = pd.read_csv(path)"
   ],
   "metadata": {
    "collapsed": false,
    "pycharm": {
     "name": "#%%\n"
    }
   }
  },
  {
   "cell_type": "code",
   "execution_count": 3,
   "outputs": [],
   "source": [
    "# Only keep entries in the United States and bring to the correct format\n",
    "df = df_read[df_read[\"Country/Region\"] == \"United States\"]\n",
    "df = df.groupby([\"Province/State\", \"date\"]).sum()"
   ],
   "metadata": {
    "collapsed": false,
    "pycharm": {
     "name": "#%%\n"
    }
   }
  },
  {
   "cell_type": "code",
   "execution_count": 4,
   "outputs": [
    {
     "name": "stdout",
     "output_type": "stream",
     "text": [
      "States: 34\n"
     ]
    }
   ],
   "source": [
    "list_of_states = [\n",
    "    \"Alabama\",\n",
    "    \"Alaska\",\n",
    "    \"Arizona\",\n",
    "    \"Arkansas\",\n",
    "    \"California\",\n",
    "    \"Colorado\",\n",
    "    \"Connecticut\",\n",
    "    \"Delaware\",\n",
    "    \"Florida\",\n",
    "    \"Georgia\",\n",
    "    \"Hawaii\",\n",
    "    \"Idaho\",\n",
    "    \"Illinois\",\n",
    "    \"Indiana\",\n",
    "    \"Iowa\",\n",
    "    \"Kansas\",\n",
    "    \"Kentucky\",\n",
    "    \"Louisiana\",\n",
    "    \"Maine\",\n",
    "    \"Maryland\",\n",
    "    \"Massachusetts\",\n",
    "    \"Michigan\",\n",
    "    \"Minnesota\",\n",
    "    \"Mississippi\",\n",
    "    \"Missouri\",\n",
    "    \"Montana\",\n",
    "    \"Nebraska\",\n",
    "    \"Nevada\",\n",
    "    \"New Hampshire\",\n",
    "    \"New Jersey\",\n",
    "    \"New Mexico\",\n",
    "    \"New York\",\n",
    "    \"North Carolina\",\n",
    "    \"North Dakota\",\n",
    "    \"Ohio\",\n",
    "    \"Oklahoma\",\n",
    "    \"Oregon\",\n",
    "    \"Pennsylvania\",\n",
    "    \"Rhode Island\",\n",
    "    \"South Carolina\",\n",
    "    \"South Dakota\",\n",
    "    \"Tennessee\",\n",
    "    \"Texas\",\n",
    "    \"Utah\",\n",
    "    \"Vermont\",\n",
    "    \"Virginia\",\n",
    "    \"Washington\",\n",
    "    \"West Virginia\",\n",
    "    \"Wisconsin\",\n",
    "    \"Wyoming\"\n",
    "]\n",
    "\n",
    "list_of_states = [\n",
    "    \"Alabama\",\n",
    "    \"Arizona\",\n",
    "    \"Arkansas\",\n",
    "    \"California\",\n",
    "    \"Colorado\",\n",
    "    \"Connecticut\",\n",
    "    \"Delaware\",\n",
    "    \"Florida\",\n",
    "    \"Georgia\",\n",
    "    \"Illinois\",\n",
    "    \"Iowa\",\n",
    "    \"Kansas\",\n",
    "    \"Kentucky\",\n",
    "    \"Louisiana\",\n",
    "    \"Maryland\",\n",
    "    \"Massachusetts\",\n",
    "    \"Michigan\",\n",
    "    \"Minnesota\",\n",
    "    \"Mississippi\",\n",
    "    \"Missouri\",\n",
    "    \"Nevada\",\n",
    "    \"New Jersey\",\n",
    "    \"New Mexico\",\n",
    "    \"North Carolina\",\n",
    "    \"Ohio\",\n",
    "    \"Oklahoma\",\n",
    "    \"Oregon\",\n",
    "    \"Pennsylvania\",\n",
    "    \"Rhode Island\",\n",
    "    \"South Carolina\",\n",
    "    \"Tennessee\",\n",
    "    \"Texas\",\n",
    "    \"Virginia\",\n",
    "    \"Wisconsin\",\n",
    "    ]\n",
    "\n",
    "print(f\"States: {len(list_of_states)}\")"
   ],
   "metadata": {
    "collapsed": false,
    "pycharm": {
     "name": "#%%\n"
    }
   }
  },
  {
   "cell_type": "code",
   "execution_count": 5,
   "outputs": [
    {
     "data": {
      "text/plain": "        id Country/Region    federalstate  infections  deaths        date  \\\n29      29  United States          Kansas           1       0  2020-03-10   \n30      30  United States        Kentucky           6       0  2020-03-10   \n31      31  United States       Louisiana           1       0  2020-03-10   \n32      32  United States        Maryland           8       0  2020-03-10   \n33      33  United States   Massachusetts          92       0  2020-03-10   \n...    ...            ...             ...         ...     ...         ...   \n3011  3011  United States  South Carolina       14286     546  2020-06-08   \n3012  3012  United States       Tennessee       26493     418  2020-06-08   \n3013  3013  United States           Texas       75408    1841  2020-06-08   \n3014  3014  United States        Virginia       49397    1461  2020-06-08   \n3015  3015  United States       Wisconsin       20835     647  2020-06-08   \n\n      newinfections  newdeaths  \n29                1          0  \n30                6          0  \n31                1          0  \n32                8          0  \n33               92          0  \n...             ...        ...  \n3011            833          7  \n3012            316          1  \n3013            938          8  \n3014              0          0  \n3015            264          2  \n\n[2953 rows x 8 columns]",
      "text/html": "<div>\n<style scoped>\n    .dataframe tbody tr th:only-of-type {\n        vertical-align: middle;\n    }\n\n    .dataframe tbody tr th {\n        vertical-align: top;\n    }\n\n    .dataframe thead th {\n        text-align: right;\n    }\n</style>\n<table border=\"1\" class=\"dataframe\">\n  <thead>\n    <tr style=\"text-align: right;\">\n      <th></th>\n      <th>id</th>\n      <th>Country/Region</th>\n      <th>federalstate</th>\n      <th>infections</th>\n      <th>deaths</th>\n      <th>date</th>\n      <th>newinfections</th>\n      <th>newdeaths</th>\n    </tr>\n  </thead>\n  <tbody>\n    <tr>\n      <th>29</th>\n      <td>29</td>\n      <td>United States</td>\n      <td>Kansas</td>\n      <td>1</td>\n      <td>0</td>\n      <td>2020-03-10</td>\n      <td>1</td>\n      <td>0</td>\n    </tr>\n    <tr>\n      <th>30</th>\n      <td>30</td>\n      <td>United States</td>\n      <td>Kentucky</td>\n      <td>6</td>\n      <td>0</td>\n      <td>2020-03-10</td>\n      <td>6</td>\n      <td>0</td>\n    </tr>\n    <tr>\n      <th>31</th>\n      <td>31</td>\n      <td>United States</td>\n      <td>Louisiana</td>\n      <td>1</td>\n      <td>0</td>\n      <td>2020-03-10</td>\n      <td>1</td>\n      <td>0</td>\n    </tr>\n    <tr>\n      <th>32</th>\n      <td>32</td>\n      <td>United States</td>\n      <td>Maryland</td>\n      <td>8</td>\n      <td>0</td>\n      <td>2020-03-10</td>\n      <td>8</td>\n      <td>0</td>\n    </tr>\n    <tr>\n      <th>33</th>\n      <td>33</td>\n      <td>United States</td>\n      <td>Massachusetts</td>\n      <td>92</td>\n      <td>0</td>\n      <td>2020-03-10</td>\n      <td>92</td>\n      <td>0</td>\n    </tr>\n    <tr>\n      <th>...</th>\n      <td>...</td>\n      <td>...</td>\n      <td>...</td>\n      <td>...</td>\n      <td>...</td>\n      <td>...</td>\n      <td>...</td>\n      <td>...</td>\n    </tr>\n    <tr>\n      <th>3011</th>\n      <td>3011</td>\n      <td>United States</td>\n      <td>South Carolina</td>\n      <td>14286</td>\n      <td>546</td>\n      <td>2020-06-08</td>\n      <td>833</td>\n      <td>7</td>\n    </tr>\n    <tr>\n      <th>3012</th>\n      <td>3012</td>\n      <td>United States</td>\n      <td>Tennessee</td>\n      <td>26493</td>\n      <td>418</td>\n      <td>2020-06-08</td>\n      <td>316</td>\n      <td>1</td>\n    </tr>\n    <tr>\n      <th>3013</th>\n      <td>3013</td>\n      <td>United States</td>\n      <td>Texas</td>\n      <td>75408</td>\n      <td>1841</td>\n      <td>2020-06-08</td>\n      <td>938</td>\n      <td>8</td>\n    </tr>\n    <tr>\n      <th>3014</th>\n      <td>3014</td>\n      <td>United States</td>\n      <td>Virginia</td>\n      <td>49397</td>\n      <td>1461</td>\n      <td>2020-06-08</td>\n      <td>0</td>\n      <td>0</td>\n    </tr>\n    <tr>\n      <th>3015</th>\n      <td>3015</td>\n      <td>United States</td>\n      <td>Wisconsin</td>\n      <td>20835</td>\n      <td>647</td>\n      <td>2020-06-08</td>\n      <td>264</td>\n      <td>2</td>\n    </tr>\n  </tbody>\n</table>\n<p>2953 rows × 8 columns</p>\n</div>"
     },
     "execution_count": 5,
     "metadata": {},
     "output_type": "execute_result"
    }
   ],
   "source": [
    "df.to_csv(\"data/covid19-US-temp.csv\")\n",
    "df_flattened = pd.read_csv(\"data/covid19-US-temp.csv\")\n",
    "\n",
    "# Bring to correct format, so it matches the German federalstates dataset\n",
    "df_flattened.insert(1, \"Country/Region\", \"United States\")\n",
    "df_flattened.rename(columns={\"Province/State\": \"federalstate\"}, inplace=True)\n",
    "df_flattened.drop([\"FIPS\", \"Lat\", \"Long\", \"recovered\", \"newrecovered\"], axis=1, inplace=True)\n",
    "df_flattened = df_flattened[df_flattened[\"federalstate\"].isin(list_of_states)]\n",
    "df_flattened = df_flattened.reindex(columns=[\"Country/Region\", \"federalstate\", \"infections\", \"deaths\", \"date\", \"newinfections\", \"newdeaths\"])\n",
    "df_flattened.sort_values([\"date\", \"federalstate\"], inplace=True)\n",
    "\n",
    "df_flattened.insert(0, \"id\", list(range(df_flattened.shape[0])))\n",
    "df_flattened.reset_index(drop=True, inplace=True)\n",
    "df_flattened = df_flattened.iloc[29:, :]\n",
    "\n",
    "df_flattened = df_flattened[df_flattened['date'] != \"2020-04-24\"]\n",
    "df_flattened.to_csv(\"data/covid19-US.csv\", index=False)\n",
    "\n",
    "df_flattened"
   ],
   "metadata": {
    "collapsed": false,
    "pycharm": {
     "name": "#%%\n"
    }
   }
  },
  {
   "cell_type": "code",
   "execution_count": 5,
   "outputs": [],
   "source": [],
   "metadata": {
    "collapsed": false,
    "pycharm": {
     "name": "#%%\n"
    }
   }
  }
 ],
 "metadata": {
  "kernelspec": {
   "display_name": "Python 3",
   "language": "python",
   "name": "python3"
  },
  "language_info": {
   "codemirror_mode": {
    "name": "ipython",
    "version": 2
   },
   "file_extension": ".py",
   "mimetype": "text/x-python",
   "name": "python",
   "nbconvert_exporter": "python",
   "pygments_lexer": "ipython2",
   "version": "2.7.6"
  }
 },
 "nbformat": 4,
 "nbformat_minor": 0
}