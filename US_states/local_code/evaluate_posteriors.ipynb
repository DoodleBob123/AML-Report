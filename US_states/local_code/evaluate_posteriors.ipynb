{
 "cells": [
  {
   "cell_type": "code",
   "execution_count": 1,
   "metadata": {
    "collapsed": true
   },
   "outputs": [],
   "source": [
    "import numpy as np\n",
    "import matplotlib.pyplot as plt\n",
    "import pandas as pd\n",
    "import os"
   ]
  },
  {
   "cell_type": "code",
   "execution_count": 2,
   "outputs": [
    {
     "name": "stdout",
     "output_type": "stream",
     "text": [
      "Loading Alabama.csv...\n",
      "Loading Arizona.csv...\n",
      "Loading Arkansas.csv...\n",
      "Loading California.csv...\n",
      "Loading Colorado.csv...\n",
      "Loading Connecticut.csv...\n",
      "Loading Delaware.csv...\n",
      "Loading Florida.csv...\n",
      "Loading Georgia.csv...\n",
      "Loading Illinois.csv...\n",
      "Loading Iowa.csv...\n",
      "Loading Kansas.csv...\n",
      "Loading Kentucky.csv...\n",
      "Loading Louisiana.csv...\n",
      "Loading Maryland.csv...\n",
      "Loading Massachusetts.csv...\n",
      "Loading Michigan.csv...\n",
      "Loading Minnesota.csv...\n",
      "Loading Mississippi.csv...\n",
      "Loading Missouri.csv...\n",
      "Loading Nevada.csv...\n",
      "Loading New Jersey.csv...\n",
      "Loading New Mexico.csv...\n",
      "Loading North Carolina.csv...\n",
      "Loading Ohio.csv...\n",
      "Loading Oklahoma.csv...\n",
      "Loading Oregon.csv...\n",
      "Loading Pennsylvania.csv...\n",
      "Loading Rhode Island.csv...\n",
      "Loading South Carolina.csv...\n",
      "Loading Tennessee.csv...\n",
      "Loading Texas.csv...\n",
      "Loading Virginia.csv...\n"
     ]
    },
    {
     "name": "stderr",
     "output_type": "stream",
     "text": [
      "<ipython-input-2-568bc670ee47>:11: SettingWithCopyWarning: \n",
      "A value is trying to be set on a copy of a slice from a DataFrame\n",
      "\n",
      "See the caveats in the documentation: https://pandas.pydata.org/pandas-docs/stable/user_guide/indexing.html#returning-a-view-versus-a-copy\n",
      "  df_state.iloc[:, 0][23] = r\"$\\alpha$\"\n",
      "<ipython-input-2-568bc670ee47>:12: SettingWithCopyWarning: \n",
      "A value is trying to be set on a copy of a slice from a DataFrame\n",
      "\n",
      "See the caveats in the documentation: https://pandas.pydata.org/pandas-docs/stable/user_guide/indexing.html#returning-a-view-versus-a-copy\n",
      "  df_state.iloc[:, 0][24] = r\"$\\beta$\"\n",
      "<ipython-input-2-568bc670ee47>:13: SettingWithCopyWarning: \n",
      "A value is trying to be set on a copy of a slice from a DataFrame\n",
      "\n",
      "See the caveats in the documentation: https://pandas.pydata.org/pandas-docs/stable/user_guide/indexing.html#returning-a-view-versus-a-copy\n",
      "  df_state.iloc[:, 0][27] = r\"$\\theta$\"\n"
     ]
    },
    {
     "data": {
      "text/plain": "      Unnamed: 0  Median    Mean     MAP              95-CI Federal state\n0          $t_1$   3.980   4.289   3.066   [0.288 - 10.042]   Alabama.csv\n1          $t_2$  15.214  15.228  15.059  [13.257 - 17.250]   Alabama.csv\n2          $t_3$  22.035  22.038  22.030  [20.005 - 24.113]   Alabama.csv\n3          $t_4$  54.585  54.550  54.674  [52.759 - 56.209]   Alabama.csv\n4   $\\Delta t_1$   2.756   2.866   2.503    [1.360 - 5.000]   Alabama.csv\n..           ...     ...     ...     ...                ...           ...\n25      $\\gamma$   0.256   0.295   0.205    [0.127 - 0.698]  Virginia.csv\n26        $\\eta$   0.387   0.399   0.376    [0.255 - 0.609]  Virginia.csv\n27      $\\theta$   0.149   0.162   0.118    [0.069 - 0.300]  Virginia.csv\n28      $\\delta$   0.033   0.037   0.026    [0.016 - 0.079]  Virginia.csv\n29           $d$   0.208   0.210   0.176    [0.083 - 0.343]  Virginia.csv\n\n[990 rows x 6 columns]",
      "text/html": "<div>\n<style scoped>\n    .dataframe tbody tr th:only-of-type {\n        vertical-align: middle;\n    }\n\n    .dataframe tbody tr th {\n        vertical-align: top;\n    }\n\n    .dataframe thead th {\n        text-align: right;\n    }\n</style>\n<table border=\"1\" class=\"dataframe\">\n  <thead>\n    <tr style=\"text-align: right;\">\n      <th></th>\n      <th>Unnamed: 0</th>\n      <th>Median</th>\n      <th>Mean</th>\n      <th>MAP</th>\n      <th>95-CI</th>\n      <th>Federal state</th>\n    </tr>\n  </thead>\n  <tbody>\n    <tr>\n      <th>0</th>\n      <td>$t_1$</td>\n      <td>3.980</td>\n      <td>4.289</td>\n      <td>3.066</td>\n      <td>[0.288 - 10.042]</td>\n      <td>Alabama.csv</td>\n    </tr>\n    <tr>\n      <th>1</th>\n      <td>$t_2$</td>\n      <td>15.214</td>\n      <td>15.228</td>\n      <td>15.059</td>\n      <td>[13.257 - 17.250]</td>\n      <td>Alabama.csv</td>\n    </tr>\n    <tr>\n      <th>2</th>\n      <td>$t_3$</td>\n      <td>22.035</td>\n      <td>22.038</td>\n      <td>22.030</td>\n      <td>[20.005 - 24.113]</td>\n      <td>Alabama.csv</td>\n    </tr>\n    <tr>\n      <th>3</th>\n      <td>$t_4$</td>\n      <td>54.585</td>\n      <td>54.550</td>\n      <td>54.674</td>\n      <td>[52.759 - 56.209]</td>\n      <td>Alabama.csv</td>\n    </tr>\n    <tr>\n      <th>4</th>\n      <td>$\\Delta t_1$</td>\n      <td>2.756</td>\n      <td>2.866</td>\n      <td>2.503</td>\n      <td>[1.360 - 5.000]</td>\n      <td>Alabama.csv</td>\n    </tr>\n    <tr>\n      <th>...</th>\n      <td>...</td>\n      <td>...</td>\n      <td>...</td>\n      <td>...</td>\n      <td>...</td>\n      <td>...</td>\n    </tr>\n    <tr>\n      <th>25</th>\n      <td>$\\gamma$</td>\n      <td>0.256</td>\n      <td>0.295</td>\n      <td>0.205</td>\n      <td>[0.127 - 0.698]</td>\n      <td>Virginia.csv</td>\n    </tr>\n    <tr>\n      <th>26</th>\n      <td>$\\eta$</td>\n      <td>0.387</td>\n      <td>0.399</td>\n      <td>0.376</td>\n      <td>[0.255 - 0.609]</td>\n      <td>Virginia.csv</td>\n    </tr>\n    <tr>\n      <th>27</th>\n      <td>$\\theta$</td>\n      <td>0.149</td>\n      <td>0.162</td>\n      <td>0.118</td>\n      <td>[0.069 - 0.300]</td>\n      <td>Virginia.csv</td>\n    </tr>\n    <tr>\n      <th>28</th>\n      <td>$\\delta$</td>\n      <td>0.033</td>\n      <td>0.037</td>\n      <td>0.026</td>\n      <td>[0.016 - 0.079]</td>\n      <td>Virginia.csv</td>\n    </tr>\n    <tr>\n      <th>29</th>\n      <td>$d$</td>\n      <td>0.208</td>\n      <td>0.210</td>\n      <td>0.176</td>\n      <td>[0.083 - 0.343]</td>\n      <td>Virginia.csv</td>\n    </tr>\n  </tbody>\n</table>\n<p>990 rows × 6 columns</p>\n</div>"
     },
     "execution_count": 2,
     "metadata": {},
     "output_type": "execute_result"
    }
   ],
   "source": [
    "posterior_dir = \"posterior_estimates/\"\n",
    "\n",
    "\n",
    "state_names = os.listdir(posterior_dir)\n",
    "\n",
    "dataframes = []\n",
    "for state in state_names:\n",
    "\n",
    "    print(f\"Loading {state}...\")\n",
    "    df_state = pd.read_csv(posterior_dir + state)\n",
    "    df_state.iloc[:, 0][23] = r\"$\\alpha$\"\n",
    "    df_state.iloc[:, 0][24] = r\"$\\beta$\"\n",
    "    df_state.iloc[:, 0][27] = r\"$\\theta$\"\n",
    "    df_state[\"Federal state\"] = state\n",
    "\n",
    "    dataframes.append(df_state)\n",
    "\n",
    "df = pd.concat(dataframes)\n",
    "df"
   ],
   "metadata": {
    "collapsed": false,
    "pycharm": {
     "name": "#%%\n"
    }
   }
  },
  {
   "cell_type": "code",
   "execution_count": 3,
   "outputs": [
    {
     "data": {
      "text/plain": "        State     IQ  Average temperature [deg. F]  \\\n0     Alabama   95.7                         62.68   \n1     Arizona   97.4                         65.97   \n2    Arkansas   97.5                         60.09   \n3  California   95.5                         61.17   \n4    Colorado  101.6                         46.26   \n\n   Population density [people per square km]  Avg. relative humidity [%]  \\\n0                                         37                        71.6   \n1                                         23                        38.5   \n2                                         22                        70.9   \n3                                         97                        61.0   \n4                                         20                        54.1   \n\n   Median household income [1000 dollars per year]  \\\n0                                           49.861   \n1                                           59.246   \n2                                           47.062   \n3                                           75.277   \n4                                           71.953   \n\n   Fraction of citizens with Bachelor degree or higher [%]  \\\n0                                              26.35         \n1                                              30.18         \n2                                              23.34         \n3                                              35.00         \n4                                              42.66         \n\n   Republican-leaning fraction in 2020 election  \n0                                            52  \n1                                            40  \n2                                            46  \n3                                            30  \n4                                            41  ",
      "text/html": "<div>\n<style scoped>\n    .dataframe tbody tr th:only-of-type {\n        vertical-align: middle;\n    }\n\n    .dataframe tbody tr th {\n        vertical-align: top;\n    }\n\n    .dataframe thead th {\n        text-align: right;\n    }\n</style>\n<table border=\"1\" class=\"dataframe\">\n  <thead>\n    <tr style=\"text-align: right;\">\n      <th></th>\n      <th>State</th>\n      <th>IQ</th>\n      <th>Average temperature [deg. F]</th>\n      <th>Population density [people per square km]</th>\n      <th>Avg. relative humidity [%]</th>\n      <th>Median household income [1000 dollars per year]</th>\n      <th>Fraction of citizens with Bachelor degree or higher [%]</th>\n      <th>Republican-leaning fraction in 2020 election</th>\n    </tr>\n  </thead>\n  <tbody>\n    <tr>\n      <th>0</th>\n      <td>Alabama</td>\n      <td>95.7</td>\n      <td>62.68</td>\n      <td>37</td>\n      <td>71.6</td>\n      <td>49.861</td>\n      <td>26.35</td>\n      <td>52</td>\n    </tr>\n    <tr>\n      <th>1</th>\n      <td>Arizona</td>\n      <td>97.4</td>\n      <td>65.97</td>\n      <td>23</td>\n      <td>38.5</td>\n      <td>59.246</td>\n      <td>30.18</td>\n      <td>40</td>\n    </tr>\n    <tr>\n      <th>2</th>\n      <td>Arkansas</td>\n      <td>97.5</td>\n      <td>60.09</td>\n      <td>22</td>\n      <td>70.9</td>\n      <td>47.062</td>\n      <td>23.34</td>\n      <td>46</td>\n    </tr>\n    <tr>\n      <th>3</th>\n      <td>California</td>\n      <td>95.5</td>\n      <td>61.17</td>\n      <td>97</td>\n      <td>61.0</td>\n      <td>75.277</td>\n      <td>35.00</td>\n      <td>30</td>\n    </tr>\n    <tr>\n      <th>4</th>\n      <td>Colorado</td>\n      <td>101.6</td>\n      <td>46.26</td>\n      <td>20</td>\n      <td>54.1</td>\n      <td>71.953</td>\n      <td>42.66</td>\n      <td>41</td>\n    </tr>\n  </tbody>\n</table>\n</div>"
     },
     "execution_count": 3,
     "metadata": {},
     "output_type": "execute_result"
    }
   ],
   "source": [
    "statistical_data_dir = \"data/federal_state_data.csv\"\n",
    "df_statistical = pd.read_csv(statistical_data_dir, delimiter=\",\")\n",
    "\n",
    "df_statistical.head()"
   ],
   "metadata": {
    "collapsed": false,
    "pycharm": {
     "name": "#%% Load the additional data\n"
    }
   }
  },
  {
   "cell_type": "code",
   "execution_count": 4,
   "outputs": [],
   "source": [
    "from scipy.stats import pearsonr\n",
    "from scipy.stats import linregress\n",
    "from scipy.odr import *\n",
    "import re\n",
    "\n",
    "statistical_field_sorted = df_statistical.sort_values(\"State\")\n",
    "df_sorted = df.sort_values(\"Federal state\")\n",
    "\n",
    "def get_R_value(parameter, statistical_field, df_sorted, df_statistical_sorted, show=False):\n",
    "\n",
    "    statistical_values = list(df_statistical_sorted[statistical_field])\n",
    "    parameter_values = list(df_sorted[df_sorted.iloc[:, 0] == parameter][\"MAP\"])\n",
    "\n",
    "    # Extract the uncertainties of the parameter estimates\n",
    "    def CI_to_error(CIString):\n",
    "\n",
    "        lower_bound, upper_bound = CIString.split(\" - \")\n",
    "        lower_bound = float(lower_bound[1:])\n",
    "        upper_bound = float(upper_bound[:-1])\n",
    "\n",
    "        return lower_bound, upper_bound\n",
    "\n",
    "    parameter_values_err = list(df_sorted[df_sorted.iloc[:, 0] == parameter][\"95-CI\"])\n",
    "    parameter_values_err = list(map(lambda x: CI_to_error(x) , parameter_values_err))\n",
    "    parameter_values_err = np.asarray(parameter_values_err).T\n",
    "\n",
    "    # Linear regression\n",
    "    slope, intercept, rvalue, pvalue, stderr = linregress(statistical_values, parameter_values)\n",
    "\n",
    "    def model(p, x):\n",
    "        a, b = p\n",
    "        return a * x + b\n",
    "\n",
    "    data = RealData(statistical_values,\n",
    "                    parameter_values)\n",
    "\n",
    "    odr = ODR(data, Model(model), beta0=[0., 1.])\n",
    "    out = odr.run()\n",
    "    #out.pprint()\n",
    "\n",
    "    slope, intercept = out.beta\n",
    "    del_slope, del_intercept = out.sd_beta\n",
    "\n",
    "    if show:\n",
    "        plt.errorbar(statistical_values, parameter_values, yerr=parameter_values_err, color=\"blue\", ls=\"none\",\n",
    "                     fmt=\"x\", capsize=5, label=\"Parameter estimates (MAP)\")\n",
    "        x_space = np.linspace(*plt.gca().get_xlim(), 2)\n",
    "\n",
    "        plt.plot(x_space, x_space * slope + intercept, color=\"black\", label=\"ODR\")\n",
    "        plt.fill_between(x_space, x_space * (slope - del_slope) + intercept, x_space * (slope + del_slope) + intercept,\n",
    "                         color=\"black\", alpha=0.3, label=\"1$\\sigma$ confidence interval of ODR\")\n",
    "\n",
    "        plt.title(f\"$R= ${rvalue:.3f}, $p=${pvalue:.3f}\")\n",
    "        plt.xlabel(statistical_field)\n",
    "        plt.ylabel(parameter)\n",
    "        plt.grid()\n",
    "        plt.legend()\n",
    "\n",
    "        # Clean parameter and statistical field name\n",
    "        def clean_name(string):\n",
    "            return re.sub(r'\\W+', '', string)\n",
    "\n",
    "        savename = f\"posterior_correlations/{clean_name(parameter)}-{clean_name(statistical_field)}.pdf\"\n",
    "\n",
    "        plt.savefig(savename)\n",
    "        plt.close()\n",
    "\n",
    "    #print(f\"corr: {rvalue:.3f}, p:{pvalue:.3f}\")\n",
    "\n",
    "    return rvalue, pvalue"
   ],
   "metadata": {
    "collapsed": false,
    "pycharm": {
     "name": "#%%\n"
    }
   }
  },
  {
   "cell_type": "code",
   "execution_count": 5,
   "outputs": [
    {
     "name": "stdout",
     "output_type": "stream",
     "text": [
      "$t_1$, IQ, number 1/210\n",
      "$d$, Avg. relative humidity [%], number 11/210\n",
      "$\\delta$, Republican-leaning fraction in 2020 election, number 21/210\n",
      "$\\eta$, Population density [people per square km], number 31/210\n",
      "$\\gamma$, Fraction of citizens with Bachelor degree or higher [%], number 41/210\n",
      "$\\alpha$, Average temperature [deg. F], number 51/210\n",
      "$\\sigma_I$, Median household income [1000 dollars per year], number 61/210\n",
      "$D_D$, IQ, number 71/210\n",
      "$D_I$, Avg. relative humidity [%], number 81/210\n",
      "$\\phi_D$, Republican-leaning fraction in 2020 election, number 91/210\n",
      "$\\phi_I$, Population density [people per square km], number 101/210\n",
      "$\\sigma_D$, Fraction of citizens with Bachelor degree or higher [%], number 111/210\n",
      "$f_I$, Average temperature [deg. F], number 121/210\n",
      "$t_2$, Median household income [1000 dollars per year], number 131/210\n",
      "$t_4$, IQ, number 141/210\n",
      "$\\Delta t_1$, Avg. relative humidity [%], number 151/210\n",
      "$\\Delta t_3$, Republican-leaning fraction in 2020 election, number 161/210\n",
      "$\\lambda_0$, Population density [people per square km], number 171/210\n",
      "$\\lambda_1$, Fraction of citizens with Bachelor degree or higher [%], number 181/210\n",
      "$\\lambda_3$, Average temperature [deg. F], number 191/210\n",
      "$\\lambda_4$, Median household income [1000 dollars per year], number 201/210\n"
     ]
    }
   ],
   "source": [
    "from itertools import product\n",
    "statistical_fields = statistical_field_sorted.columns.tolist()[1:]\n",
    "statistical_fields_short = [\n",
    "    \"IQ\",\n",
    "    \"Temperature\",\n",
    "    \"Population density\",\n",
    "    \"Rel. humidity\",\n",
    "    \"Income\",\n",
    "    \"Education\",\n",
    "    \"Republican-leaning\"\n",
    "]\n",
    "\n",
    "parameters = df_sorted.iloc[:, 0].unique().tolist()\n",
    "\n",
    "combinations = list(product(parameters, statistical_fields))\n",
    "\n",
    "r_array = []\n",
    "p_array = []\n",
    "\n",
    "for i, (param, statistical_f) in enumerate(combinations):\n",
    "\n",
    "    if i % 10 == 0:\n",
    "        print(f\"{param}, {statistical_f}, number {i+1}/{len(combinations)}\")\n",
    "\n",
    "    show=True\n",
    "    r, p = get_R_value(param, statistical_f, df_sorted, statistical_field_sorted, show=show)\n",
    "    r_array.append(r)\n",
    "    p_array.append(p)\n",
    "\n",
    "r_array = np.asarray(r_array)\n",
    "p_array = np.asarray(p_array)"
   ],
   "metadata": {
    "collapsed": false,
    "pycharm": {
     "name": "#%%\n"
    }
   }
  },
  {
   "cell_type": "code",
   "execution_count": 18,
   "outputs": [
    {
     "data": {
      "text/plain": "<Figure size 343.778x576 with 4 Axes>",
      "image/png": "[encoded data removed]"
     },
     "metadata": {
      "needs_background": "light"
     },
     "output_type": "display_data"
    }
   ],
   "source": [
    "from mpl_toolkits.axes_grid1 import ImageGrid\n",
    "fig = plt.figure(figsize=(1*4.7747, 8))\n",
    "grid = ImageGrid(fig, 111,  # similar to subplot(111)\n",
    "                 nrows_ncols=(1, 2),  # creates 2x2 grid of axes\n",
    "                 axes_pad=0.1,  # pad between axes in inch.\n",
    "                 cbar_location=\"top\",\n",
    "                  cbar_mode=\"each\",\n",
    "                  cbar_size=\"3%\",\n",
    "                  cbar_pad=\"2%\"\n",
    "                 )\n",
    "\n",
    "ax1 = grid[0]\n",
    "ax2 = grid[1]\n",
    "\n",
    "#####\n",
    "r_array = np.abs(r_array.reshape(len(parameters), len(statistical_fields)))\n",
    "p_array = p_array.reshape(len(parameters), len(statistical_fields))\n",
    "\n",
    "im1 = ax1.imshow(r_array, cmap=\"Blues\", aspect=\"auto\")\n",
    "im2 = ax2.imshow(p_array, cmap=\"Blues\", aspect=\"auto\")\n",
    "\n",
    "ax1.set_title(\"$R$-values\", pad=45)\n",
    "ax2.set_title(\"$p$-values\", pad=45)\n",
    "\n",
    "ax2.set_yticks(np.arange(len(parameters)))\n",
    "ax2.set_yticklabels(parameters)\n",
    "\n",
    "ax1.set_xticks(np.arange(len(statistical_fields)))\n",
    "ax1.set_xticklabels(statistical_fields_short, rotation = 90)\n",
    "ax2.set_xticks(np.arange(len(statistical_fields)))\n",
    "ax2.set_xticklabels(statistical_fields_short, rotation = 90)\n",
    "\n",
    "cbar1 = grid.cbar_axes[0].colorbar(im1)\n",
    "cbar2 = grid.cbar_axes[1].colorbar(im2)\n",
    "\n",
    "cbar1.set_ticks([0.2, 0.4, 0.6])\n",
    "cbar2.set_ticks([0.1, 0.5, 0.9])\n",
    "plt.tight_layout()\n",
    "plt.savefig(\"test.pdf\")"
   ],
   "metadata": {
    "collapsed": false,
    "pycharm": {
     "name": "#%% # Plot correlation matrices for r and p values\n"
    }
   }
  },
  {
   "cell_type": "code",
   "execution_count": 6,
   "outputs": [],
   "source": [],
   "metadata": {
    "collapsed": false,
    "pycharm": {
     "name": "#%%\n"
    }
   }
  }
 ],
 "metadata": {
  "kernelspec": {
   "display_name": "Python 3",
   "language": "python",
   "name": "python3"
  },
  "language_info": {
   "codemirror_mode": {
    "name": "ipython",
    "version": 2
   },
   "file_extension": ".py",
   "mimetype": "text/x-python",
   "name": "python",
   "nbconvert_exporter": "python",
   "pygments_lexer": "ipython2",
   "version": "2.7.6"
  }
 },
 "nbformat": 4,
 "nbformat_minor": 0
}